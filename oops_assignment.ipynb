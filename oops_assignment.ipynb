{
 "cells": [
  {
   "cell_type": "markdown",
   "id": "eab6967e-4114-4790-9212-903e5d82fe46",
   "metadata": {},
   "source": [
    "Q1. Class and Object in Object-Oriented Programming:"
   ]
  },
  {
   "cell_type": "code",
   "execution_count": 1,
   "id": "b9b7f751-6894-4bb1-85d4-af7727f5b775",
   "metadata": {},
   "outputs": [],
   "source": [
    "class Car:\n",
    "    def __init__(self, brand, model):\n",
    "        self.brand = brand\n",
    "        self.model = model\n",
    "\n",
    "    def display_info(self):\n",
    "        print(f\"Brand: {self.brand}, Model: {self.model}\")\n",
    "\n",
    "# Creating an object of the Car class\n",
    "my_car = Car(\"Toyota\", \"Corolla\")"
   ]
  },
  {
   "cell_type": "markdown",
   "id": "50e8163d-0a67-4b20-84c5-7e64082297fb",
   "metadata": {},
   "source": [
    "Q2. Four pillars of OOPs:"
   ]
  },
  {
   "cell_type": "code",
   "execution_count": 2,
   "id": "89f1cc04-4fc6-4fbe-bbae-9cf7e972745d",
   "metadata": {},
   "outputs": [
    {
     "data": {
      "text/plain": [
       "'Encapsulation: Encapsulation is the bundling of data (attributes) and methods that operate on the data into a single unit, i.e., a class. It helps in hiding the internal state of an object from the outside world and only exposing the necessary functionalities.\\n\\nAbstraction: Abstraction refers to the concept of hiding the complex implementation details and showing only the essential features of an object. It allows us to focus on what an object does rather than how it does it.\\n\\nInheritance: Inheritance is a mechanism in which a new class (derived or child class) is created by inheriting the properties and behaviors of an existing class (base or parent class). It promotes code reusability and establishes a hierarchical relationship between classes.\\n\\nPolymorphism: Polymorphism allows objects of different classes to be treated as objects of a common superclass. It enables a single interface to represent different underlying forms (data types or classes). Polymorphism is achieved through method overriding and method overloading.'"
      ]
     },
     "execution_count": 2,
     "metadata": {},
     "output_type": "execute_result"
    }
   ],
   "source": [
    "\"\"\"Encapsulation: Encapsulation is the bundling of data (attributes) and methods that operate on the data into a single unit, i.e., a class. It helps in hiding the internal state of an object from the outside world and only exposing the necessary functionalities.\n",
    "\n",
    "Abstraction: Abstraction refers to the concept of hiding the complex implementation details and showing only the essential features of an object. It allows us to focus on what an object does rather than how it does it.\n",
    "\n",
    "Inheritance: Inheritance is a mechanism in which a new class (derived or child class) is created by inheriting the properties and behaviors of an existing class (base or parent class). It promotes code reusability and establishes a hierarchical relationship between classes.\n",
    "\n",
    "Polymorphism: Polymorphism allows objects of different classes to be treated as objects of a common superclass. It enables a single interface to represent different underlying forms (data types or classes). Polymorphism is achieved through method overriding and method overloading.\"\"\""
   ]
  },
  {
   "cell_type": "markdown",
   "id": "9f5912c9-606e-4856-9632-bc12bd952b30",
   "metadata": {},
   "source": [
    "Q3. The __init__() function in Python:"
   ]
  },
  {
   "cell_type": "code",
   "execution_count": 3,
   "id": "8c8dd19b-6d44-4ea9-9fac-5804da36a082",
   "metadata": {},
   "outputs": [
    {
     "name": "stdout",
     "output_type": "stream",
     "text": [
      "John\n"
     ]
    }
   ],
   "source": [
    "class Person:\n",
    "    def __init__(self, name, age):\n",
    "        self.name = name\n",
    "        self.age = age\n",
    "\n",
    "person1 = Person(\"John\", 25)\n",
    "print(person1.name)  # Output: John"
   ]
  },
  {
   "cell_type": "markdown",
   "id": "f49de029-accc-4c40-b0e0-16d65068bb8e",
   "metadata": {},
   "source": [
    "Q4. Use of self in OOPs:"
   ]
  },
  {
   "cell_type": "code",
   "execution_count": 4,
   "id": "90799ee4-6104-4b49-8eca-b828e848d403",
   "metadata": {},
   "outputs": [
    {
     "data": {
      "text/plain": [
       "'In OOPs, self is a reference to the current instance of the class.\\nIt is used to access variables and methods within the class.\\nWhen a method is called on an object, Python automatically passes the object itself as the first argument (self) to the method.'"
      ]
     },
     "execution_count": 4,
     "metadata": {},
     "output_type": "execute_result"
    }
   ],
   "source": [
    "\"\"\"In OOPs, self is a reference to the current instance of the class.\n",
    "It is used to access variables and methods within the class.\n",
    "When a method is called on an object, Python automatically passes the object itself as the first argument (self) to the method.\"\"\""
   ]
  },
  {
   "cell_type": "markdown",
   "id": "b02adc81-707a-415d-a9e5-2da3211b4257",
   "metadata": {},
   "source": [
    "Q5. Inheritance in OOPs:"
   ]
  },
  {
   "cell_type": "code",
   "execution_count": 7,
   "id": "ff425153-85ce-46ae-baa4-c5152e688635",
   "metadata": {},
   "outputs": [
    {
     "name": "stdout",
     "output_type": "stream",
     "text": [
      "Animal speaks\n",
      "Method A\n",
      "Method B\n",
      "Method A\n",
      "Method B\n",
      "Method C\n",
      "Animal speaks\n",
      "Animal speaks\n"
     ]
    }
   ],
   "source": [
    "\"\"\"Single_Inheritance: A derived class inherits from only one base class.\"\"\"\n",
    "\n",
    "class Animal:\n",
    "    def speak(self):\n",
    "        print(\"Animal speaks\")\n",
    "\n",
    "class Dog(Animal):\n",
    "    pass\n",
    "\n",
    "my_dog = Dog()\n",
    "my_dog.speak()  # Output: Animal speaks\n",
    "\"\"\"Multiple_Inheritance: A derived class inherits from multiple base classes.\"\"\"\n",
    "\n",
    "class A:\n",
    "    def method_a(self):\n",
    "        print(\"Method A\")\n",
    "\n",
    "class B:\n",
    "    def method_b(self):\n",
    "        print(\"Method B\")\n",
    "\n",
    "class C(A, B):\n",
    "    pass\n",
    "\n",
    "obj = C()\n",
    "obj.method_a()  # Output: Method A\n",
    "obj.method_b()  # Output: Method B\n",
    "\"\"\"Multilevel_Inheritance: A derived class inherits from another derived class.\"\"\"\n",
    "\n",
    "class A:\n",
    "    def method_a(self):\n",
    "        print(\"Method A\")\n",
    "\n",
    "class B(A):\n",
    "    def method_b(self):\n",
    "        print(\"Method B\")\n",
    "\n",
    "class C(B):\n",
    "    def method_c(self):\n",
    "        print(\"Method C\")\n",
    "\n",
    "obj = C()\n",
    "obj.method_a()  # Output: Method A\n",
    "obj.method_b()  # Output: Method B\n",
    "obj.method_c()  # Output: Method C\n",
    "\"\"\"Hierarchical_Inheritance: Multiple derived classes inherit from the same base class.\"\"\"\n",
    "\n",
    "\n",
    "class Animal:\n",
    "    def speak(self):\n",
    "        print(\"Animal speaks\")\n",
    "\n",
    "class Dog(Animal):\n",
    "    def wag_tail(self):\n",
    "        print(\"Dog wags tail\")\n",
    "\n",
    "class Cat(Animal):\n",
    "    def purr(self):\n",
    "        print(\"Cat purrs\")\n",
    "\n",
    "my_dog = Dog()\n",
    "my_cat = Cat()\n",
    "my_dog.speak()  # Output: Animal speaks\n",
    "my_cat.speak()  # Output: Animal speaks"
   ]
  },
  {
   "cell_type": "code",
   "execution_count": null,
   "id": "c3ab21ca-cd5f-419b-8574-d292b9f61df2",
   "metadata": {},
   "outputs": [],
   "source": []
  }
 ],
 "metadata": {
  "kernelspec": {
   "display_name": "Python 3 (ipykernel)",
   "language": "python",
   "name": "python3"
  },
  "language_info": {
   "codemirror_mode": {
    "name": "ipython",
    "version": 3
   },
   "file_extension": ".py",
   "mimetype": "text/x-python",
   "name": "python",
   "nbconvert_exporter": "python",
   "pygments_lexer": "ipython3",
   "version": "3.10.8"
  }
 },
 "nbformat": 4,
 "nbformat_minor": 5
}
